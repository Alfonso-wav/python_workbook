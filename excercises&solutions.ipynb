{
 "cells": [
  {
   "cell_type": "markdown",
   "metadata": {},
   "source": [
    "### Exercise 1:Mailing Address\n",
    "*(Solved—9 Lines)*\n",
    "\n",
    "Create a program that displays your name and complete mailing address formatted in\n",
    "the manner that you would usually see it on the outside of an envelope. Your program\n",
    "does not need to read any input from the user"
   ]
  },
  {
   "cell_type": "code",
   "execution_count": 1,
   "metadata": {},
   "outputs": [
    {
     "name": "stdout",
     "output_type": "stream",
     "text": [
      "Name: Paco Pepe\n",
      "Last Name: de Murcia\n",
      "Country: Spain\n",
      "City: Murcia\n",
      "Province: Murcia\n",
      "Address: c/Ronda de Levante 24\n"
     ]
    }
   ],
   "source": [
    "print(\"Name: Paco Pepe\")\n",
    "print(\"Last Name: de Murcia\")\n",
    "print(\"Country: Spain\")\n",
    "print(\"City: Murcia\")\n",
    "print(\"Province: Murcia\")\n",
    "print(\"Address: c/Ronda de Levante 24\")"
   ]
  },
  {
   "cell_type": "markdown",
   "metadata": {},
   "source": [
    "## Exercise 2:Hello\n",
    "*(9 Lines)*\n",
    "\n",
    "Write a program that asks the user to enter his or her name. The program should\n",
    "respond with a message that says hello to the user, using his or her name"
   ]
  },
  {
   "cell_type": "code",
   "execution_count": 6,
   "metadata": {},
   "outputs": [
    {
     "name": "stdout",
     "output_type": "stream",
     "text": [
      "Hello Paco Pepe.\n"
     ]
    }
   ],
   "source": [
    "user = input(str(\"Whats your name?\"))\n",
    "print(f\"Hello {user}.\")"
   ]
  },
  {
   "cell_type": "markdown",
   "metadata": {},
   "source": [
    "## Exercise 3:Area of a Room\n",
    "\n",
    "*(Solved—13 Lines)*\n",
    "\n",
    "Write a program that asks the user to enter the width and length of a room. Once\n",
    "the values have been read, your program should compute and display the area of the\n",
    "room. The length and the width will be entered as floating point numbers. Include\n",
    "units in your prompt and output message; either feet or meters, depending on which\n",
    "unit you are more comfortable working with"
   ]
  },
  {
   "cell_type": "code",
   "execution_count": 12,
   "metadata": {},
   "outputs": [
    {
     "ename": "ValueError",
     "evalue": "could not convert string to float: '10 meters'",
     "output_type": "error",
     "traceback": [
      "\u001b[0;31m---------------------------------------------------------------------------\u001b[0m",
      "\u001b[0;31mValueError\u001b[0m                                Traceback (most recent call last)",
      "\u001b[1;32m/workspaces/python_workbook/excercises&solutions.ipynb Celda 6\u001b[0m line \u001b[0;36m3\n\u001b[1;32m      <a href='vscode-notebook-cell://codespaces%2Blegendary-umbrella-5gqg4qwv5vrrhvx74/workspaces/python_workbook/excercises%26solutions.ipynb#W5sdnNjb2RlLXJlbW90ZQ%3D%3D?line=0'>1</a>\u001b[0m width \u001b[39m=\u001b[39m \u001b[39minput\u001b[39m(\u001b[39m\"\u001b[39m\u001b[39mWhat\u001b[39m\u001b[39m'\u001b[39m\u001b[39ms the widht of the room?\u001b[39m\u001b[39m\"\u001b[39m)\n\u001b[1;32m      <a href='vscode-notebook-cell://codespaces%2Blegendary-umbrella-5gqg4qwv5vrrhvx74/workspaces/python_workbook/excercises%26solutions.ipynb#W5sdnNjb2RlLXJlbW90ZQ%3D%3D?line=1'>2</a>\u001b[0m length \u001b[39m=\u001b[39m \u001b[39minput\u001b[39m(\u001b[39m\"\u001b[39m\u001b[39mWhat\u001b[39m\u001b[39m'\u001b[39m\u001b[39ms the lenght of the room?\u001b[39m\u001b[39m\"\u001b[39m)\n\u001b[0;32m----> <a href='vscode-notebook-cell://codespaces%2Blegendary-umbrella-5gqg4qwv5vrrhvx74/workspaces/python_workbook/excercises%26solutions.ipynb#W5sdnNjb2RlLXJlbW90ZQ%3D%3D?line=2'>3</a>\u001b[0m width_float \u001b[39m=\u001b[39m \u001b[39mfloat\u001b[39;49m(width)\n\u001b[1;32m      <a href='vscode-notebook-cell://codespaces%2Blegendary-umbrella-5gqg4qwv5vrrhvx74/workspaces/python_workbook/excercises%26solutions.ipynb#W5sdnNjb2RlLXJlbW90ZQ%3D%3D?line=3'>4</a>\u001b[0m length_float \u001b[39m=\u001b[39m \u001b[39mfloat\u001b[39m(length)\n\u001b[1;32m      <a href='vscode-notebook-cell://codespaces%2Blegendary-umbrella-5gqg4qwv5vrrhvx74/workspaces/python_workbook/excercises%26solutions.ipynb#W5sdnNjb2RlLXJlbW90ZQ%3D%3D?line=4'>5</a>\u001b[0m area \u001b[39m=\u001b[39m width_float \u001b[39m*\u001b[39m length_float\n",
      "\u001b[0;31mValueError\u001b[0m: could not convert string to float: '10 meters'"
     ]
    }
   ],
   "source": [
    "width = input(\"What's the widht of the room?\")\n",
    "length = input(\"What's the lenght of the room?\")\n",
    "width_float = float(width)\n",
    "length_float = float(length)\n",
    "area = width_float * length_float\n",
    "print(f'The total area is {area} meters.')"
   ]
  }
 ],
 "metadata": {
  "kernelspec": {
   "display_name": "Python 3",
   "language": "python",
   "name": "python3"
  },
  "language_info": {
   "codemirror_mode": {
    "name": "ipython",
    "version": 3
   },
   "file_extension": ".py",
   "mimetype": "text/x-python",
   "name": "python",
   "nbconvert_exporter": "python",
   "pygments_lexer": "ipython3",
   "version": "3.10.8"
  }
 },
 "nbformat": 4,
 "nbformat_minor": 2
}
