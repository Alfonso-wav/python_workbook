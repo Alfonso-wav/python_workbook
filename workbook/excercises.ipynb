{
 "cells": [
  {
   "cell_type": "markdown",
   "metadata": {},
   "source": [
    "### Exercise 1:Mailing Address\n",
    "*(Solved—9 Lines)*\n",
    "\n",
    "Create a program that displays your name and complete mailing address formatted in\n",
    "the manner that you would usually see it on the outside of an envelope. Your program\n",
    "does not need to read any input from the user"
   ]
  },
  {
   "cell_type": "code",
   "execution_count": null,
   "metadata": {},
   "outputs": [],
   "source": []
  },
  {
   "cell_type": "markdown",
   "metadata": {},
   "source": [
    "## Exercise 2:Hello\n",
    "*(9 Lines)*\n",
    "\n",
    "Write a program that asks the user to enter his or her name. The program should\n",
    "respond with a message that says hello to the user, using his or her name"
   ]
  },
  {
   "cell_type": "code",
   "execution_count": null,
   "metadata": {},
   "outputs": [],
   "source": []
  },
  {
   "cell_type": "markdown",
   "metadata": {},
   "source": [
    "## Exercise 3:Area of a Room\n",
    "\n",
    "*(Solved—13 Lines)*\n",
    "\n",
    "Write a program that asks the user to enter the width and length of a room. Once\n",
    "the values have been read, your program should compute and display the area of the\n",
    "room. The length and the width will be entered as floating point numbers. Include\n",
    "units in your prompt and output message; either feet or meters, depending on which\n",
    "unit you are more comfortable working with"
   ]
  },
  {
   "cell_type": "code",
   "execution_count": null,
   "metadata": {},
   "outputs": [],
   "source": []
  },
  {
   "cell_type": "markdown",
   "metadata": {},
   "source": [
    "## Exercise 4:Area of a Field\n",
    "\n",
    "*(Solved—15 Lines)*\n",
    "\n",
    "Create a program that reads the length and width of a farmer’s field from the user in\n",
    "feet. Display the area of the field in acres.\n",
    ">Hint: There are 43,560 square feet in an acre."
   ]
  },
  {
   "cell_type": "code",
   "execution_count": null,
   "metadata": {},
   "outputs": [],
   "source": []
  },
  {
   "cell_type": "markdown",
   "metadata": {},
   "source": [
    "## Exercise 5:Bottle Deposits\n",
    "\n",
    "*(Solved—15 Lines)*\n",
    "\n",
    "In many jurisdictions a small deposit is added to drink containers to encourage people\n",
    "to recycle them. In one particular jurisdiction, drink containers holding one liter or\n",
    "less have a $0.10 deposit, and drink containers holding more than one liter have a\n",
    "$0.25 deposit.\n",
    "Write a program that reads the number of containers of each size from the user.\n",
    "Your program should continue by computing and displaying the refund that will be\n",
    "received for returning those containers. Format the output so that it includes a dollar\n",
    "sign and always displays exactly two decimal places."
   ]
  },
  {
   "cell_type": "code",
   "execution_count": null,
   "metadata": {},
   "outputs": [],
   "source": []
  },
  {
   "cell_type": "markdown",
   "metadata": {},
   "source": [
    "\n",
    "## Exercise 6:Tax andTip\n",
    "\n",
    "*(Solved—17 Lines)*\n",
    "\n",
    "The program that you create for this exercise will begin by reading the cost of a meal\n",
    "ordered at a restaurant from the user. Then your program will compute the tax and\n",
    "tip for the meal. Use your local tax rate when computing the amount of tax owing.\n",
    "Compute the tip as 18 percent of the meal amount (without the tax). The output from\n",
    "your program should include the tax amount, the tip amount, and the grand total for\n",
    "the meal including both the tax and the tip. Format the output so that all of the values\n",
    "are displayed using two decimal places"
   ]
  },
  {
   "cell_type": "code",
   "execution_count": null,
   "metadata": {},
   "outputs": [],
   "source": [
    "\n"
   ]
  },
  {
   "cell_type": "markdown",
   "metadata": {},
   "source": [
    "## Exercise 7:Sum of the First n Positive Integers\n",
    "\n",
    "*(Solved—12 Lines)*\n",
    "\n",
    "Write a program that reads a positive integer, n, from the user and then displays the\n",
    "sum of all of the integers from 1 to n. The sum of the first n positive integers can be\n",
    "computed using the formula:\n",
    "sum = (n)(n + 1) / 2\n",
    "\n"
   ]
  },
  {
   "cell_type": "code",
   "execution_count": null,
   "metadata": {},
   "outputs": [],
   "source": [
    "\n"
   ]
  },
  {
   "cell_type": "markdown",
   "metadata": {},
   "source": [
    "## Exercise 8:Widgets and Gizmos\n",
    "\n",
    "*(15 Lines)*\n",
    "\n",
    "An online retailer sells two products: widgets and gizmos. Each widget weighs 75\n",
    "grams. Each gizmo weighs 112 grams. Write a program that reads the number of\n",
    "widgets and the number of gizmos in an order from the user. Then your program\n",
    "should compute and display the total weight of the order."
   ]
  },
  {
   "cell_type": "code",
   "execution_count": null,
   "metadata": {},
   "outputs": [],
   "source": [
    "\n",
    "\n",
    "\n"
   ]
  },
  {
   "cell_type": "markdown",
   "metadata": {},
   "source": [
    "## Exercise 9:Compound Interest\n",
    "\n",
    "*(19 Lines)*\n",
    "\n",
    "Pretend that you have just opened a new savings account that earns 4 percent interest\n",
    "per year. The interest that you earn is paid at the end of the year, and is added\n",
    "to the balance of the savings account. Write a program that begins by reading the\n",
    "amount of money deposited into the account from the user. Then your program should\n",
    "compute and display the amount in the savings account after 1, 2, and 3 years. Display\n",
    "each amount so that it is rounded to 2 decimal places"
   ]
  },
  {
   "cell_type": "code",
   "execution_count": null,
   "metadata": {},
   "outputs": [],
   "source": []
  },
  {
   "cell_type": "markdown",
   "metadata": {},
   "source": [
    "## Exercise 10:Arithmetic\n",
    "\n",
    "*(Solved—20 Lines)*\n",
    "\n",
    "Create a program that reads two integers, a and b, from the user. Your program should\n",
    "compute and display:\n",
    "* The sum of a and b\n",
    "* The difference when b is subtracted from a\n",
    "* The product of a and b\n",
    "* The quotient when a is divided by b\n",
    "* The remainder when a is divided by b\n",
    "* The result of log10 a\n",
    "* The result of a^b\n",
    ">Hint: You will probably find the log10 function in the math module helpful for computing the second last item in the list."
   ]
  },
  {
   "cell_type": "markdown",
   "metadata": {},
   "source": [
    "## Exercise 11:Fuel Efficiency\n",
    "\n",
    "*(13 Lines)*\n",
    "\n",
    "In the United States, fuel efficiency for vehicles is normally expressed in miles-per-\n",
    "gallon (MPG). In Canada, fuel efficiency is normally expressed in liters-per-hundred\n",
    "kilometers (L/100km). Use your research skills to determine how to convert from\n",
    "MPGtoL/100km.Then create a program that reads a value from the user in American units and displays the equivalent fuel efficiency in Canadian units."
   ]
  },
  {
   "cell_type": "markdown",
   "metadata": {},
   "source": [
    "## Exercise 12:Distance BetweenTwo Points on Earth\n",
    "\n",
    "*(27 Lines)*\n",
    "\n",
    "The surface of the Earth is curved, and the distance between degrees of longitude varies with latitude. As a result, finding the distance between two points on the surface of the Earth is more complicated than simply using the Pythagorean theorem.\n",
    "Let (t1, g1) and (t2, g2) be the latitude and longitude of two points on the Earth’s surface. The distance between these points, following the surface of the Earth, in\n",
    "kilometers is:\n",
    "\n",
    "distance = 6371.01 × arccos(sin(t1) × sin(t2) + cos(t1) × cos(t2) × cos(g1 − g2))\n",
    "\n",
    ">The value 6371.01 in the previous equation wasn’t selected at random. It is the average radius of the Earth in kilometers.\n",
    "\n",
    "Create a program that allows the user to enter the latitude and longitude of two points on the Earth in degrees. Your program should display the distance between the points, following the surface of the earth, in kilometers.\n",
    "\n",
    "> *Hint*: Python’s trigonometric functions operate in radians. As a result, you will need to convert the user’s input from degrees to radians before computing the distance with the formula discussed previously. The math module contains a function named radians which converts from degrees to radians\n",
    "\n",
    "\n"
   ]
  },
  {
   "cell_type": "markdown",
   "metadata": {},
   "source": [
    "## Exercise 13:Making Change\n",
    "\n",
    "*(Solved—33 Lines)*\n",
    "\n",
    "Consider the software that runs on a self-checkout machine. One task that it must be able to perform is to determine how much change to provide when the shopper pays for a purchase with cash.\n",
    "Write a program that begins by reading a number of cents from the user as an integer. Then your program should compute and display the denominations of the coins that should be used to give that amount of change to the shopper. The change should be given using as few coins as possible. Assume that the machine is loaded with pennies, nickels, dimes, quarters, loonies and toonies.\n",
    "\n",
    ">A one dollar coin was introduced in Canada in 1987. It is referred to as a loonie because one side of the coin has a loon (a type of bird) on it. The two dollar coin, referred to as a toonie, was introduced 9 years later. It’s name is derived from the combination of the number two and the name of the loonie."
   ]
  },
  {
   "cell_type": "markdown",
   "metadata": {},
   "source": [
    "## Exercise 14:Height Units\n",
    "\n",
    "*(Solved—16 Lines)*\n",
    "\n",
    "Many people think about their height in feet and inches, even in some countries that primarily use the metric system. Write a program that reads a number of feet from the user, followed by a number of inches. Once these values are read, your program should compute and display the equivalent number of centimeters.\n",
    "\n",
    "> *Hint*: One foot is 12 inches. One inch is 2.54 centimeters."
   ]
  },
  {
   "cell_type": "markdown",
   "metadata": {},
   "source": [
    "## Exercise 15:Distance Units\n",
    "\n",
    "*(20 Lines)*\n",
    "\n",
    "In this exercise, you will create a program that begins by reading a measurement in feet from the user. Then your program should display the equivalent distance in inches, yards and miles. Use the Internet to look up the necessary conversion factors if you don’t have them memorized."
   ]
  },
  {
   "cell_type": "markdown",
   "metadata": {},
   "source": [
    "## Exercise 16:Area andVolume\n",
    "\n",
    "*(15 Lines)*\n",
    "\n",
    "Write a program that begins by reading a radius, r, from the user. The program will continue by computing and displaying the area of a circle with radius r and the volume of a sphere with radius r. Use the pi constant in the math module in your calculations.\n",
    "\n",
    "> *Hint*: The area of a circle is computed using the formula area = πr^2.\n",
    "The volume of a sphere is computed using the formula volume = 4/3 πr^3.\n",
    "\n"
   ]
  },
  {
   "cell_type": "markdown",
   "metadata": {},
   "source": [
    "## Exercise 17:Heat Capacity\n",
    "\n",
    "*(Solved—25 Lines)*\n",
    "\n",
    "The amount of energy required to increase the temperature of one gram of a material by one degree Celsius is the material’s specific heat capacity, C. The total amount of energy required to raise m grams of a material by ∆T degrees Celsius can be computed using the formula:\n",
    "\n",
    ">q = mC∆T.\n",
    "\n",
    "Write a program that reads the mass of some water and the temperature change from the user. Your program should display the total amount of energy that must be added or removed to achieve the desired temperature change.\n",
    "\n",
    "> *Hint*: The specific heat capacity of water is 4.186 Jg◦C . Because water has a density of 1.0 gram per millilitre, you can use grams and millilitres interchangeably in this exercise.\n",
    "\n",
    "Extend your program so that it also computes the cost of heating the water. Electricity is normally billed using units of kilowatt hours rather than Joules. In this exercise, you should assume that electricity costs 8.9 cents per kilowatt-hour. Use your program to compute the cost of boiling water for a cup of coffee.\n",
    "\n",
    ">Hint: You will need to look up the factor for converting between Joules and kilowatt hours to complete the last part of this exercise\n"
   ]
  },
  {
   "cell_type": "code",
   "execution_count": null,
   "metadata": {},
   "outputs": [],
   "source": []
  },
  {
   "cell_type": "markdown",
   "metadata": {},
   "source": [
    "## Exercise 18:Volume of a Cylinder\n",
    "\n",
    "*(15 Lines)*\n",
    "\n",
    "The volume of a cylinder can be computed by multiplying the area of its circular base by its height. Write a program that reads the radius of the cylinder, along with its height, from the user and computes its volume. Display the result rounded to one decimal place."
   ]
  },
  {
   "cell_type": "code",
   "execution_count": null,
   "metadata": {},
   "outputs": [],
   "source": []
  },
  {
   "cell_type": "markdown",
   "metadata": {},
   "source": [
    "## Exercise 19:Free Fall\n",
    "\n",
    "*(Solved—16 Lines)*\n",
    "\n",
    "Create a program that determines how quickly an object is traveling when it hits the ground. The user will enter the height from which the object is dropped in meters (m).\n",
    "Because the object is dropped its initial speed is 0m/s. Assume that the acceleration due to gravity is 9.8m/s2. You can use the formula \n",
    "\n",
    ">vf = √(v2/i + 2ad) \n",
    "\n",
    "to compute the final speed, vf , when the initial speed, vi , acceleration, a, and distance, d, are known."
   ]
  },
  {
   "cell_type": "markdown",
   "metadata": {},
   "source": [
    "## Exercise 20:Ideal Gas Law\n",
    "\n",
    "*(19 Lines)*\n",
    "\n",
    "The ideal gas law is a mathematical approximation of the behavior of gasses as pressure, volume and temperature change. It is usually stated as:\n",
    "\n",
    ">PV = nRT\n",
    "\n",
    "where P is the pressure in Pascals, V is the volume in liters, n is the amount of substance in moles, R is the ideal gas constant, equal to 8.314 Jmol K , and T is the temperature in degrees Kelvin.\n",
    "Write a program that computes the amount of gas in moles when the user supplies the pressure, volume and temperature. Test your program by determining the number of moles of gas in a SCUBA tank. A typical SCUBA tank holds 12 liters of gas at a pressure of 20,000,000 Pascals (approximately 3,000 PSI). Room temperature is approximately 20 degrees Celsius or 68 degrees Fahrenheit.\n",
    "\n",
    "> *Hint*: A temperature is converted from Celsius to Kelvin by adding 273.15 to it. To convert a temperature from Fahrenheit to Kelvin, deduct 32 from it, multiply it by 59 and then add 273.15 to it.\n"
   ]
  },
  {
   "cell_type": "markdown",
   "metadata": {},
   "source": []
  },
  {
   "cell_type": "markdown",
   "metadata": {},
   "source": [
    "## Exercise 21:Area of aTriangle\n",
    "\n",
    "*(13 Lines)*\n",
    "\n",
    "The area of a triangle can be computed using the following formula, where b is the length of the base of the triangle, and h is its height:\n",
    "\n",
    ">area = (b × h) / 2\n",
    "\n",
    "Write a program that allows the user to enter values for b and h. The program should then compute and display the area of a triangle with base length b and height h."
   ]
  },
  {
   "cell_type": "markdown",
   "metadata": {},
   "source": []
  }
 ],
 "metadata": {
  "kernelspec": {
   "display_name": "Python 3",
   "language": "python",
   "name": "python3"
  },
  "language_info": {
   "codemirror_mode": {
    "name": "ipython",
    "version": 3
   },
   "file_extension": ".py",
   "mimetype": "text/x-python",
   "name": "python",
   "nbconvert_exporter": "python",
   "pygments_lexer": "ipython3",
   "version": "3.10.8"
  }
 },
 "nbformat": 4,
 "nbformat_minor": 2
}
