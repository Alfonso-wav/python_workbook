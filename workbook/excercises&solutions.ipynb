{
 "cells": [
  {
   "cell_type": "markdown",
   "metadata": {},
   "source": [
    "### Exercise 1:Mailing Address\n",
    "*(Solved—9 Lines)*\n",
    "\n",
    "Create a program that displays your name and complete mailing address formatted in\n",
    "the manner that you would usually see it on the outside of an envelope. Your program\n",
    "does not need to read any input from the user"
   ]
  },
  {
   "cell_type": "code",
   "execution_count": 1,
   "metadata": {},
   "outputs": [
    {
     "name": "stdout",
     "output_type": "stream",
     "text": [
      "Name: Paco Pepe\n",
      "Last Name: de Murcia\n",
      "Country: Spain\n",
      "City: Murcia\n",
      "Province: Murcia\n",
      "Address: c/Ronda de Levante 24\n"
     ]
    }
   ],
   "source": [
    "print(\"Name: Paco Pepe\")\n",
    "print(\"Last Name: de Murcia\")\n",
    "print(\"Country: Spain\")\n",
    "print(\"City: Murcia\")\n",
    "print(\"Province: Murcia\")\n",
    "print(\"Address: c/Ronda de Levante 24\")"
   ]
  },
  {
   "cell_type": "markdown",
   "metadata": {},
   "source": [
    "## Exercise 2:Hello\n",
    "*(9 Lines)*\n",
    "\n",
    "Write a program that asks the user to enter his or her name. The program should\n",
    "respond with a message that says hello to the user, using his or her name"
   ]
  },
  {
   "cell_type": "code",
   "execution_count": 6,
   "metadata": {},
   "outputs": [
    {
     "name": "stdout",
     "output_type": "stream",
     "text": [
      "Hello Paco Pepe.\n"
     ]
    }
   ],
   "source": [
    "user = input(str(\"Whats your name?\"))\n",
    "print(f\"Hello {user}.\")"
   ]
  },
  {
   "cell_type": "markdown",
   "metadata": {},
   "source": [
    "## Exercise 3:Area of a Room\n",
    "\n",
    "*(Solved—13 Lines)*\n",
    "\n",
    "Write a program that asks the user to enter the width and length of a room. Once\n",
    "the values have been read, your program should compute and display the area of the\n",
    "room. The length and the width will be entered as floating point numbers. Include\n",
    "units in your prompt and output message; either feet or meters, depending on which\n",
    "unit you are more comfortable working with"
   ]
  },
  {
   "cell_type": "code",
   "execution_count": 2,
   "metadata": {},
   "outputs": [
    {
     "name": "stdout",
     "output_type": "stream",
     "text": [
      "The total area is 100.0 meters.\n"
     ]
    }
   ],
   "source": [
    "width = float(input(\"What's the widht of the room in meters?\"))\n",
    "length = float(input(\"What's the lenght of the room in meters?\"))\n",
    "\n",
    "area = width * length\n",
    "print(f'The total area is {area} meters.')"
   ]
  },
  {
   "cell_type": "markdown",
   "metadata": {},
   "source": [
    "## Exercise 4:Area of a Field\n",
    "\n",
    "*(Solved—15 Lines)*\n",
    "\n",
    "Create a program that reads the length and width of a farmer’s field from the user in\n",
    "feet. Display the area of the field in acres.\n",
    ">Hint: There are 43,560 square feet in an acre."
   ]
  },
  {
   "cell_type": "code",
   "execution_count": 4,
   "metadata": {},
   "outputs": [
    {
     "name": "stdout",
     "output_type": "stream",
     "text": [
      "There are 488.96 acres.\n"
     ]
    }
   ],
   "source": [
    "length = float(input(\"Lenght in feet:\"))\n",
    "width = float(input(\"Width in feet:\"))\n",
    "area = length * width\n",
    "in_acres = area / 43560\n",
    "\n",
    "print(f'There are {round(in_acres, 2)} acres.')"
   ]
  },
  {
   "cell_type": "markdown",
   "metadata": {},
   "source": [
    "## Exercise 5:Bottle Deposits\n",
    "\n",
    "*(Solved—15 Lines)*\n",
    "\n",
    "In many jurisdictions a small deposit is added to drink containers to encourage people\n",
    "to recycle them. In one particular jurisdiction, drink containers holding one liter or\n",
    "less have a $0.10 deposit, and drink containers holding more than one liter have a\n",
    "$0.25 deposit.\n",
    "Write a program that reads the number of containers of each size from the user.\n",
    "Your program should continue by computing and displaying the refund that will be\n",
    "received for returning those containers. Format the output so that it includes a dollar\n",
    "sign and always displays exactly two decimal places."
   ]
  },
  {
   "cell_type": "code",
   "execution_count": 5,
   "metadata": {},
   "outputs": [
    {
     "name": "stdout",
     "output_type": "stream",
     "text": [
      "You get 11.3$ for your containers.\n"
     ]
    }
   ],
   "source": [
    "small_container = int(input(\"How many small containers?\"))\n",
    "result1 = small_container * 0.10\n",
    "big_container = int(input(\"How many big containers?\"))\n",
    "result2 = big_container * 0.25\n",
    "total = result1 + result2\n",
    "\n",
    "print(f'You get {round(total, 2)}$ for your containers.')"
   ]
  },
  {
   "cell_type": "markdown",
   "metadata": {},
   "source": [
    "\n",
    "## Exercise 6:Tax andTip\n",
    "\n",
    "*(Solved—17 Lines)*\n",
    "\n",
    "The program that you create for this exercise will begin by reading the cost of a meal\n",
    "ordered at a restaurant from the user. Then your program will compute the tax and\n",
    "tip for the meal. Use your local tax rate when computing the amount of tax owing.\n",
    "Compute the tip as 18 percent of the meal amount (without the tax). The output from\n",
    "your program should include the tax amount, the tip amount, and the grand total for\n",
    "the meal including both the tax and the tip. Format the output so that all of the values\n",
    "are displayed using two decimal places"
   ]
  },
  {
   "cell_type": "code",
   "execution_count": 6,
   "metadata": {},
   "outputs": [
    {
     "name": "stdout",
     "output_type": "stream",
     "text": [
      "The taxes are 8.4$, the tip is 7.2$ and the total amount ascends to 55.6$.\n"
     ]
    }
   ],
   "source": [
    "meal = float(input(\"How much is the meal?\"))\n",
    "tax = meal * 0.21\n",
    "tip = meal * 0.18\n",
    "total = meal + tax + tip\n",
    "\n",
    "print(f'The taxes are {round(tax, 2)}$, the tip is {round(tip,2)}$ and the total amount ascends to {round(total, 2)}$.')\n"
   ]
  },
  {
   "cell_type": "markdown",
   "metadata": {},
   "source": [
    "## Exercise 7:Sum of the First n Positive Integers\n",
    "\n",
    "*(Solved—12 Lines)*\n",
    "\n",
    "Write a program that reads a positive integer, n, from the user and then displays the\n",
    "sum of all of the integers from 1 to n. The sum of the first n positive integers can be\n",
    "computed using the formula:\n",
    "sum = (n)(n + 1) / 2\n",
    "\n"
   ]
  },
  {
   "cell_type": "code",
   "execution_count": 12,
   "metadata": {},
   "outputs": [
    {
     "name": "stdout",
     "output_type": "stream",
     "text": [
      "10.0\n"
     ]
    }
   ],
   "source": [
    "n = int(input(\"Positive integer:\"))\n",
    "result = n * ( n + 1 ) / 2\n",
    "print(result)\n"
   ]
  },
  {
   "cell_type": "markdown",
   "metadata": {},
   "source": [
    "## Exercise 8:Widgets and Gizmos\n",
    "\n",
    "*(15 Lines)*\n",
    "\n",
    "An online retailer sells two products: widgets and gizmos. Each widget weighs 75\n",
    "grams. Each gizmo weighs 112 grams. Write a program that reads the number of\n",
    "widgets and the number of gizmos in an order from the user. Then your program\n",
    "should compute and display the total weight of the order."
   ]
  },
  {
   "cell_type": "code",
   "execution_count": 14,
   "metadata": {},
   "outputs": [
    {
     "name": "stdout",
     "output_type": "stream",
     "text": [
      "The total weight is 378.709 kilograms.\n"
     ]
    }
   ],
   "source": [
    "widgets = int(input(\"How many widgets?\"))\n",
    "gizmos = int(input(\"How many gizmos?\"))\n",
    "\n",
    "widgets_w = 75 * widgets\n",
    "gizmos_w = 112 * gizmos\n",
    "total_w = (widgets_w + gizmos_w) / 1000\n",
    "\n",
    "print(f'The total weight is {total_w} kilograms.')\n",
    "\n",
    "\n"
   ]
  },
  {
   "cell_type": "markdown",
   "metadata": {},
   "source": [
    "## Exercise 9:Compound Interest\n",
    "\n",
    "*(19 Lines)*\n",
    "\n",
    "Pretend that you have just opened a new savings account that earns 4 percent interest\n",
    "per year. The interest that you earn is paid at the end of the year, and is added\n",
    "to the balance of the savings account. Write a program that begins by reading the\n",
    "amount of money deposited into the account from the user. Then your program should\n",
    "compute and display the amount in the savings account after 1, 2, and 3 years. Display\n",
    "each amount so that it is rounded to 2 decimal places"
   ]
  },
  {
   "cell_type": "code",
   "execution_count": 20,
   "metadata": {},
   "outputs": [
    {
     "name": "stdout",
     "output_type": "stream",
     "text": [
      "If you deposit 666676.009$,\n",
      "after one year you will get 693343.05$,\n",
      "after two years you will get 721076.77$\n",
      "and after three years 749919.84$.\n"
     ]
    }
   ],
   "source": [
    "deposit = float(input(\"How much money?\"))\n",
    "year1 = deposit + (deposit*0.04)\n",
    "year2 = year1 + (year1*0.04)\n",
    "year3 = year2 + (year2*0.04)\n",
    "\n",
    "print(f'If you deposit {deposit}$,\\nafter one year you will get {round(year1, 2)}$,\\nafter two years you will get {round(year2, 2)}$\\nand after three years {round(year3, 2)}$.')"
   ]
  },
  {
   "cell_type": "markdown",
   "metadata": {},
   "source": [
    "## Exercise 10:Arithmetic\n",
    "\n",
    "*(Solved—20 Lines)*\n",
    "\n",
    "Create a program that reads two integers, a and b, from the user. Your program should\n",
    "compute and display:\n",
    "* The sum of a and b\n",
    "* The difference when b is subtracted from a\n",
    "* The product of a and b\n",
    "* The quotient when a is divided by b\n",
    "* The remainder when a is divided by b\n",
    "* The result of log10 a\n",
    "* The result of a^b\n",
    ">Hint: You will probably find the log10 function in the math module helpful for computing the second last item in the list."
   ]
  },
  {
   "cell_type": "code",
   "execution_count": 22,
   "metadata": {},
   "outputs": [
    {
     "name": "stdout",
     "output_type": "stream",
     "text": [
      "45 1 506 1.0454545454545454 1 1.3617278360175928 907846434775996175406740561329\n"
     ]
    }
   ],
   "source": [
    "from math import log10\n",
    "a = int(input(\"First number:\"))\n",
    "b = int(input(\"Second number:\"))\n",
    "\n",
    "sm = a + b\n",
    "df = a - b\n",
    "ml = a * b\n",
    "dv = a / b\n",
    "rm = a % b\n",
    "log = log10(a)\n",
    "result = a**b\n",
    "print(sm, df, ml, dv, rm, log, result)\n"
   ]
  }
 ],
 "metadata": {
  "kernelspec": {
   "display_name": "Python 3",
   "language": "python",
   "name": "python3"
  },
  "language_info": {
   "codemirror_mode": {
    "name": "ipython",
    "version": 3
   },
   "file_extension": ".py",
   "mimetype": "text/x-python",
   "name": "python",
   "nbconvert_exporter": "python",
   "pygments_lexer": "ipython3",
   "version": "3.10.8"
  }
 },
 "nbformat": 4,
 "nbformat_minor": 2
}
